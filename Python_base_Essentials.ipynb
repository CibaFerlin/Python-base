{
  "nbformat": 4,
  "nbformat_minor": 0,
  "metadata": {
    "colab": {
      "provenance": [],
      "authorship_tag": "ABX9TyMylUDaxoUYZ7s3CfFpyltg",
      "include_colab_link": true
    },
    "kernelspec": {
      "name": "python3",
      "display_name": "Python 3"
    },
    "language_info": {
      "name": "python"
    }
  },
  "cells": [
    {
      "cell_type": "markdown",
      "metadata": {
        "id": "view-in-github",
        "colab_type": "text"
      },
      "source": [
        "<a href=\"https://colab.research.google.com/github/CibaFerlin/Python-base/blob/main/Python_base_Essentials.ipynb\" target=\"_parent\"><img src=\"https://colab.research.google.com/assets/colab-badge.svg\" alt=\"Open In Colab\"/></a>"
      ]
    },
    {
      "cell_type": "code",
      "execution_count": 1,
      "metadata": {
        "colab": {
          "base_uri": "https://localhost:8080/"
        },
        "id": "ZRGV2QSY3MqY",
        "outputId": "aaac2b5c-aba3-4556-8810-d0e3c3f1159b"
      },
      "outputs": [
        {
          "output_type": "stream",
          "name": "stdout",
          "text": [
            "CIBELY\n"
          ]
        }
      ],
      "source": [
        "print('Cibely'.upper())"
      ]
    },
    {
      "cell_type": "code",
      "source": [
        "print(56+7)"
      ],
      "metadata": {
        "colab": {
          "base_uri": "https://localhost:8080/"
        },
        "id": "apEYu1bY5gi3",
        "outputId": "47039663-9fff-4524-c1d4-56848f045ecf"
      },
      "execution_count": 2,
      "outputs": [
        {
          "output_type": "stream",
          "name": "stdout",
          "text": [
            "63\n"
          ]
        }
      ]
    },
    {
      "cell_type": "code",
      "source": [
        "# Este programa imprime o Hello World\n",
        "print(\"Hello, World!\")"
      ],
      "metadata": {
        "colab": {
          "base_uri": "https://localhost:8080/"
        },
        "id": "TYnaELy_5m0A",
        "outputId": "fac653fc-5133-44e7-9f55-2028ba9cb807"
      },
      "execution_count": 8,
      "outputs": [
        {
          "output_type": "stream",
          "name": "stdout",
          "text": [
            "Hello, World!\n"
          ]
        }
      ]
    },
    {
      "cell_type": "code",
      "source": [
        "if __name__ == \"__main__\": # convenção que diz que o script deve iniciar com este código.\n",
        "    print(\"Hello, World!\")"
      ],
      "metadata": {
        "colab": {
          "base_uri": "https://localhost:8080/"
        },
        "id": "VR_TOJ5W6alU",
        "outputId": "d578fe86-859e-4320-cf01-7c7caebbf0ad"
      },
      "execution_count": 12,
      "outputs": [
        {
          "output_type": "stream",
          "name": "stdout",
          "text": [
            "Hello, World!\n"
          ]
        }
      ]
    },
    {
      "cell_type": "code",
      "source": [
        "import os\n",
        "\n",
        "current_language = os.getenv(\"LANG\")[:5] # variável de ambiente do sistema operacional\n",
        "\n",
        "msg = \"Hello, World!\" # criação de uma variável\n",
        "\n",
        "if current_language == \"pt_BR\":\n",
        "    msg = \"Olá, Mundo!\"\n",
        "    print(msg)\n",
        "elif current_language == \"es_SP\":\n",
        "    msg = \"Hola, Mundo!\"\n",
        "    print(msg)\n",
        "elif current_language == \"fr_FR\":\n",
        "    msg = \"Bonjour, Monde!\"\n",
        "    print(msg)\n",
        "else:\n",
        "    print(msg)"
      ],
      "metadata": {
        "colab": {
          "base_uri": "https://localhost:8080/"
        },
        "id": "E_k80Jy_Dbu_",
        "outputId": "179a5d3c-3d2a-40d3-eca9-b1fbb09680a0"
      },
      "execution_count": 25,
      "outputs": [
        {
          "output_type": "stream",
          "name": "stdout",
          "text": [
            "Hello, World!\n"
          ]
        }
      ]
    },
    {
      "cell_type": "code",
      "source": [],
      "metadata": {
        "id": "-huwgWMiGF4k"
      },
      "execution_count": null,
      "outputs": []
    }
  ]
}